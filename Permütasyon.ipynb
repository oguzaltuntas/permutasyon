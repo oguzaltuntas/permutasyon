{
  "nbformat": 4,
  "nbformat_minor": 0,
  "metadata": {
    "colab": {
      "name": "Permütasyon",
      "provenance": [],
      "collapsed_sections": [],
      "toc_visible": true,
      "authorship_tag": "ABX9TyMVVpL3NZobooAv47LMfb2A",
      "include_colab_link": true
    },
    "kernelspec": {
      "name": "python3",
      "display_name": "Python 3"
    }
  },
  "cells": [
    {
      "cell_type": "markdown",
      "metadata": {
        "id": "view-in-github",
        "colab_type": "text"
      },
      "source": [
        "<a href=\"https://colab.research.google.com/github/oguzaltuntas/permutasyon/blob/master/Perm%C3%BCtasyon.ipynb\" target=\"_parent\"><img src=\"https://colab.research.google.com/assets/colab-badge.svg\" alt=\"Open In Colab\"/></a>"
      ]
    },
    {
      "cell_type": "code",
      "metadata": {
        "id": "NkwVuD-m6hAH",
        "colab_type": "code",
        "outputId": "5c4dbd0b-769c-4875-8436-355e2b4c017b",
        "colab": {
          "base_uri": "https://localhost:8080/",
          "height": 118
        }
      },
      "source": [
        " def factorialCalc(i): # permütasyon hesaplamanın temeli olan faktöriyel hesaplanması\n",
        "\n",
        "    if i==1 or i==0:       # bir veya 0 rakamının özel faktöriyeli sabit 1.\n",
        "        return 1\n",
        "    \n",
        "    else: \n",
        "        return i * factorialCalc(i-1)    # rekürsif\n",
        "\n",
        "def permutationCalc(j,k):       #permütasyon iterasyon basamağı\n",
        "    l = 0\n",
        "    \n",
        "    if k>j:        \n",
        "        l = l\n",
        "        \n",
        "    else:      \n",
        "        l = factorialCalc(j)/factorialCalc(j-k)   #faktöriyel kavramını çağırdığımız yer \n",
        "        return l\n",
        "\n",
        "def checkGreaterNumbers(numOfClusterElmnt,digPer,foundOfNum):        # permütasyon koşullarını sağlayan rakamlar mı ? \n",
        " \n",
        "  if numOfClusterElmnt<digPer:\n",
        "     print(\"Lütfen küme eleman sayısından fazla değer girmeyiniz!\")\n",
        "     digPer = int(input(\"Dizinin kaçlı permütasyonu hesaplanacak ?: \"))     \n",
        "     return  False\n",
        "  elif numOfClusterElmnt-foundOfNum <digPer:\n",
        "     return False\n",
        "  else: \n",
        "    return True\n",
        "\n",
        "print(\"Permütasyon hesabı için lütfen istenenleri giriniz.\")   \n",
        "numOfClusterElmnt = int(len(input(\"Permütasyon hesaplanacak kümenin elemanlarını (rakamları-karakterlerini) giriniz: \")))  #  ilk olarak dizinin uzunluğunu buluyoruz\n",
        "digPer = int(input(\"Dizinin kaçlı permütasyonu hesaplanacak ?: \"))             # Sonrasında kaçlı permütasyonu bulunması isteniyor\n",
        "foundOfNum = int(len(input(\"Hangi iki rakamdan birisi veya ikisi bulunmalı?: \")))   # Hangi rakam(harf) veya rakamların(harf dizesi) sıralamada bulunması isteniyor   \n",
        "while  checkGreaterNumbers(numOfClusterElmnt,digPer,foundOfNum) == False:\n",
        "    checkGreaterNumbers(numOfClusterElmnt,digPer,foundOfNum)\n",
        "\n",
        "print(\"Sonuç:\", int(permutationCalc(numOfClusterElmnt,digPer) - permutationCalc(numOfClusterElmnt-foundOfNum,digPer) ))\n",
        "\n"
      ],
      "execution_count": 41,
      "outputs": [
        {
          "output_type": "stream",
          "text": [
            "Permütasyon hesabı için lütfen istenenleri giriniz.\n",
            "ERROR! Session/line number was not unique in database. History logging moved to new session 103\n",
            "Permütasyon hesaplanacak kümenin elemanlarını (rakamları-karakterlerini) giriniz: 123456\n",
            "Dizinin kaçlı permütasyonu hesaplanacak ?: 4\n",
            "Hangi iki rakamdan birisi veya ikisi bulunmalı?: 56\n",
            "Sonuç: 336\n"
          ],
          "name": "stdout"
        }
      ]
    },
    {
      "cell_type": "markdown",
      "metadata": {
        "id": "MNeSV3kcitWg",
        "colab_type": "text"
      },
      "source": [
        "# PERMÜTASYON\n",
        "Permütasyon ,n pozitif tamsayı, r doğal sayı ve r ≤n olmak üzere, n elemanlı bir kümenin r elemanlı sıralı r’lilerine o kümenin r’li permütasyonu olarak tanımlayabiliriz.n tane farklı nesnemiz var. bu n tane nesneden r tanesini aynı anda seçiyor ve sıralıyoruz, yani sıralı r’li oluşturuyoruz, işte bu sıralamaya n’in r’li permütasyonu denir. Permütasyonda diziliş önemlidir.\n",
        "\n",
        "P(n,r) = n!/(n−r)!  n adet nesneden r tanesini seçip  sıralamanın formülüdür.\n",
        "Konuyu bir örnekle pekiştirelim.\n",
        "\n",
        "Problem(Girdi) :Oğuz={1,2,3,4,5,6} kümesinin dörtlü permütasyonlarının kaçında 5 veya 6 bulunur ?\n",
        "\n",
        "Çözüm : Öncelikle kümenin toplam eleman sayısının 4'lü permütasyonu bulunur.\n",
        "P(6,4) = 360 \n",
        "\n",
        "Akabinde 6 elemana sahip Oğuz kümesinin dört elemanlı alt kümelerinden 5 ve 6 rakamının bulunmaması durumu ayrıştırılır.\n",
        "P(4,4) = 24\n",
        "P(6,4) - P(4,4) = 360 - 24\n",
        "\n",
        "Sonuç(Çıktı) : 360-24=336\n",
        "\n"
      ]
    },
    {
      "cell_type": "markdown",
      "metadata": {
        "id": "fJ23wwk6ixAg",
        "colab_type": "text"
      },
      "source": [
        ""
      ]
    }
  ]
}